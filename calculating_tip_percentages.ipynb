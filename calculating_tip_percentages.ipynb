{
 "cells": [
  {
   "cell_type": "code",
   "execution_count": 1,
   "id": "4a371d1a-b718-4d54-a285-d070824a6ebc",
   "metadata": {},
   "outputs": [
    {
     "name": "stdin",
     "output_type": "stream",
     "text": [
      "Please enter the amount billed for food consumed:  100\n"
     ]
    },
    {
     "name": "stdout",
     "output_type": "stream",
     "text": [
      "\n",
      "Amount of Food Bill: $100.00\n",
      "\n",
      "Amount of 10% Tip: $10.00\n",
      "Amount of 15% Tip: $15.00\n",
      "Amount of 20% Tip: $20.00\n",
      "Amount of 25% Tip: $25.00\n",
      "\n",
      "Total Bill, including tip at 10%: $110.00\n",
      "Total Bill, including tip at 15%: $115.00\n",
      "Total Bill, including tip at 20%: $120.00\n",
      "Total Bill, including tip at 25%: $125.00\n",
      "\n",
      "End of Program\n"
     ]
    }
   ],
   "source": [
    "#INPUTS:\n",
    "\n",
    "#CONSTANTS\n",
    "TIP_10_PERCENT = 10.0\n",
    "TIP_15_PERCENT = 15.0\n",
    "TIP_20_PERCENT = 20.0\n",
    "TIP_25_PERCENT = 25.0\n",
    "\n",
    "#User-Input\n",
    "bill_total = input(\"Please enter the amount billed for food consumed: \")\n",
    "\n",
    "#PROCESSES:\n",
    "\n",
    "#Data-Type conversions:\n",
    "bill_total = float(bill_total)                             # Convert to float because bill total can be fractional\n",
    "\n",
    "#Computations:\n",
    "amount_of_10_percent_tip = TIP_10_PERCENT/100 * bill_total  \n",
    "amount_of_15_percent_tip = TIP_15_PERCENT/100 * bill_total\n",
    "amount_of_20_percent_tip = TIP_20_PERCENT/100 * bill_total\n",
    "amount_of_25_percent_tip = TIP_25_PERCENT/100 * bill_total\n",
    "bill_total_including_tip_at_ten_percent = bill_total + amount_of_10_percent_tip\n",
    "bill_total_including_tip_at_fifteen_percent = bill_total + amount_of_15_percent_tip\n",
    "bill_total_including_tip_at_twenty_percent = bill_total + amount_of_20_percent_tip\n",
    "bill_total_including_tip_at_twentyfive_percent = bill_total + amount_of_25_percent_tip\n",
    "\n",
    "#OUTPUTS:\n",
    "print()\n",
    "print(f\"Amount of Food Bill: ${bill_total:.2f}\")\n",
    "print()\n",
    "print(f\"Amount of 10% Tip: ${amount_of_10_percent_tip:.2f}\")\n",
    "print(f\"Amount of 15% Tip: ${amount_of_15_percent_tip:.2f}\")\n",
    "print(f\"Amount of 20% Tip: ${amount_of_20_percent_tip:.2f}\")\n",
    "print(f\"Amount of 25% Tip: ${amount_of_25_percent_tip:.2f}\")\n",
    "print()\n",
    "print(f\"Total Bill, including tip at 10%: ${bill_total_including_tip_at_ten_percent:.2f}\")\n",
    "print(f\"Total Bill, including tip at 15%: ${bill_total_including_tip_at_fifteen_percent:.2f}\")\n",
    "print(f\"Total Bill, including tip at 20%: ${bill_total_including_tip_at_twenty_percent:.2f}\")\n",
    "print(f\"Total Bill, including tip at 25%: ${bill_total_including_tip_at_twentyfive_percent:.2f}\")\n",
    "print()\n",
    "print(f\"End of Program\")"
   ]
  }
 ],
 "metadata": {
  "kernelspec": {
   "display_name": "Python 3 (ipykernel)",
   "language": "python",
   "name": "python3"
  },
  "language_info": {
   "codemirror_mode": {
    "name": "ipython",
    "version": 3
   },
   "file_extension": ".py",
   "mimetype": "text/x-python",
   "name": "python",
   "nbconvert_exporter": "python",
   "pygments_lexer": "ipython3",
   "version": "3.9.12"
  }
 },
 "nbformat": 4,
 "nbformat_minor": 5
}
